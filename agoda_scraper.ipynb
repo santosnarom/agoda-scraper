{
  "nbformat": 4,
  "nbformat_minor": 0,
  "metadata": {
    "colab": {
      "provenance": [],
      "authorship_tag": "ABX9TyPHyGuhOTohiiFCOr/9Uhxt",
      "include_colab_link": true
    },
    "kernelspec": {
      "name": "python3",
      "display_name": "Python 3"
    },
    "language_info": {
      "name": "python"
    }
  },
  "cells": [
    {
      "cell_type": "markdown",
      "metadata": {
        "id": "view-in-github",
        "colab_type": "text"
      },
      "source": [
        "<a href=\"https://colab.research.google.com/github/santosnarom/agoda-scraper/blob/main/agoda_scraper.ipynb\" target=\"_parent\"><img src=\"https://colab.research.google.com/assets/colab-badge.svg\" alt=\"Open In Colab\"/></a>"
      ]
    },
    {
      "cell_type": "markdown",
      "source": [
        "**Agoda Scraper**"
      ],
      "metadata": {
        "id": "irR0fEKSvcFl"
      }
    },
    {
      "cell_type": "markdown",
      "source": [
        "**Parameters**\n",
        "*   `city`\n",
        "*   `start_date`\n",
        "*   `end_date`\n",
        "*   `pages`"
      ],
      "metadata": {
        "id": "0O-LQhtkvgZp"
      }
    },
    {
      "cell_type": "code",
      "source": [
        "import requests"
      ],
      "metadata": {
        "id": "ndmS2hG_v0vY"
      },
      "execution_count": null,
      "outputs": []
    },
    {
      "cell_type": "code",
      "source": [
        "city = \"Tokyo\"\n",
        "checkin_date = \"2025-01-01\"\n",
        "checkout_date = \"2025-02-01\"\n",
        "adults = 1\n",
        "rooms = 1"
      ],
      "metadata": {
        "id": "VizBaXPbwfaN"
      },
      "execution_count": null,
      "outputs": []
    },
    {
      "cell_type": "code",
      "source": [
        "def get_city_id(city):\n",
        "    city_search_url = f\"https://www.agoda.com/api/cronos/search/GetUnifiedSuggestResult/3/1/1/0/en-us/?searchText={city}\"\n",
        "    response = requests.get(city_search_url).json()\n",
        "    for result in response[\"ViewModelList\"]:\n",
        "        if result[\"CityId\"] > 0 and result[\"Name\"].lower() == city.lower():\n",
        "            return result[\"CityId\"]"
      ],
      "metadata": {
        "id": "6grQRQxXwAkM"
      },
      "execution_count": null,
      "outputs": []
    },
    {
      "cell_type": "code",
      "source": [
        "def get_recos(city_id, start_date, end_date, adults, rooms):\n",
        "    recos_url = \"https://www.agoda.com/api/personalization/PersonalizeRecommendedProperties/v1\"\n",
        "    params = {\n",
        "        \"hasSearchCriteria\": \"true\",\n",
        "        \"recommendationType\": 2,\n",
        "        \"cityId\": city_id,\n",
        "        \"checkIn\": checkin_date,\n",
        "        \"lengthOfStay\": 5,\n",
        "        \"adults\": adults,\n",
        "        \"rooms\": rooms,\n",
        "        \"children\": 0,\n",
        "        \"finalPriceView\": 1,\n",
        "        \"hotelId\": 0\n",
        "    }\n",
        "    headers = {\n",
        "        \"Content-Type\": \"application/json\",\n",
        "        \"User-Agent\": \"IPad: Mozilla/5.0 (iPad; CPU OS 5_0_1 like Mac OS X) AppleWebKit/534.46 (KHTML, like Gecko) Version/5.1 Mobile/9A405 Safari/7534.48.3\"\n",
        "    }\n",
        "    response = requests.get(recos_url, params=params, headers=headers).json()\n",
        "    return response[\"PersonalizedRecommendedProperties\"]"
      ],
      "metadata": {
        "id": "O21uYHTtyVsn"
      },
      "execution_count": null,
      "outputs": []
    },
    {
      "cell_type": "code",
      "source": [
        "city_id = get_city_id(city)\n",
        "get_recos(city_id, checkin_date, checkout_date, adults, rooms)"
      ],
      "metadata": {
        "id": "7kUNRxfH03wV"
      },
      "execution_count": null,
      "outputs": []
    }
  ]
}